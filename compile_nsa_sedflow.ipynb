{
 "cells": [
  {
   "cell_type": "markdown",
   "id": "0c379cdd",
   "metadata": {},
   "source": [
    "https://github.com/changhoonhahn/SEDflow/blob/1482d3a685aa73927f89eee965c52ec0a6ae64a9/nb/compile_nsa_sedflow.ipynb"
   ]
  },
  {
   "cell_type": "markdown",
   "id": "f452c957",
   "metadata": {},
   "source": [
    "# Compile SEDflow posteriors and MCMC posteriors for NSA galaxies"
   ]
  },
  {
   "cell_type": "code",
   "execution_count": 1,
   "id": "2350d4b1",
   "metadata": {},
   "outputs": [],
   "source": [
    "import os\n",
    "import h5py\n",
    "import numpy as np\n",
    "from tqdm.notebook import tqdm, trange\n",
    "\n",
    "import sys\n",
    "sys.path.append('/media/SSD/Doktori/Csillagtomegbecsles_cikk/SED/SEDflow/SEDflow/src/')\n",
    "from sedflow import obs as Obs\n",
    "from sedflow import train as Train\n",
    "\n",
    "os.environ[\"SPS_HOME\"] = \"/media/SSD/Doktori/Csillagtomegbecsles_cikk/SED/SEDflow/fsps\"\n",
    "\n",
    "from provabgs import infer as Infer\n",
    "from provabgs import models as Models"
   ]
  },
  {
   "cell_type": "code",
   "execution_count": 2,
   "id": "e1ac1177",
   "metadata": {},
   "outputs": [],
   "source": [
    "sample = 'toy'\n",
    "itrain = 2\n",
    "nhidden = 500\n",
    "nblocks = 15"
   ]
  },
  {
   "cell_type": "code",
   "execution_count": 3,
   "id": "dc8a4e13",
   "metadata": {},
   "outputs": [
    {
     "name": "stdout",
     "output_type": "stream",
     "text": [
      "Number of galaxies:  33884\n"
     ]
    }
   ],
   "source": [
    "dat_dir = '/media/SSD/Doktori/Csillagtomegbecsles_cikk/SED/SEDflow/data/'\n",
    "# read in NSA data with clean photometry\n",
    "nsa = {}\n",
    "f = h5py.File(os.path.join(dat_dir, 'nsa.photometry.hdf5'), 'r')\n",
    "for k in f.keys(): \n",
    "    nsa[k] = f[k][...]\n",
    "    #print(k)\n",
    "f.close()\n",
    "\n",
    "mags_nsa = np.array( [nsa['mag_u'], nsa['mag_g'], nsa['mag_r'], nsa['mag_i'], nsa['mag_z'] ] )\n",
    "sigs_nsa = np.array( [nsa['sigma_u'], nsa['sigma_g'], nsa['sigma_r'], nsa['sigma_i'], nsa['sigma_z'] ] )\n",
    "zred_nsa = nsa['redshift']\n",
    "\n",
    "nsa = np.concatenate([mags_nsa.T, sigs_nsa.T, zred_nsa.reshape( np.shape(zred_nsa)[0], 1 )], axis=1)\n",
    "print( 'Number of galaxies: ', len( nsa ) )"
   ]
  },
  {
   "cell_type": "code",
   "execution_count": 4,
   "id": "f99bb29c",
   "metadata": {
    "scrolled": true
   },
   "outputs": [
    {
     "name": "stdout",
     "output_type": "stream",
     "text": [
      "input parameters : logmstar, beta1_sfh, beta2_sfh, beta3_sfh, beta4_sfh, fburst, tburst, gamma1_zh, gamma2_zh, dust1, dust2, dust_index\n"
     ]
    }
   ],
   "source": [
    "prior = Train.prior_default()\n",
    "\n",
    "# sps model\n",
    "m_sps= Train.SPSmodel_default(emulator=True)"
   ]
  },
  {
   "cell_type": "code",
   "execution_count": 5,
   "id": "d54666d2",
   "metadata": {},
   "outputs": [
    {
     "name": "stdout",
     "output_type": "stream",
     "text": [
      "/media/SSD/Doktori/Csillagtomegbecsles_cikk/SED/SEDflow/my_data/anpe_thetaunt_magsigz.toy.500x15.2.nsa0of34.samples.npy\n"
     ]
    },
    {
     "data": {
      "application/vnd.jupyter.widget-view+json": {
       "model_id": "9cf6139c04994c61abd21cb73e610af9",
       "version_major": 2,
       "version_minor": 0
      },
      "text/plain": [
       "  0%|          | 0/1000 [00:00<?, ?it/s]"
      ]
     },
     "metadata": {},
     "output_type": "display_data"
    },
    {
     "name": "stdout",
     "output_type": "stream",
     "text": [
      "/media/SSD/Doktori/Csillagtomegbecsles_cikk/SED/SEDflow/my_data/anpe_thetaunt_magsigz.toy.500x15.2.nsa1of34.samples.npy\n"
     ]
    },
    {
     "data": {
      "application/vnd.jupyter.widget-view+json": {
       "model_id": "4232c7c4ce35497ab5b73c63148ab5a4",
       "version_major": 2,
       "version_minor": 0
      },
      "text/plain": [
       "  0%|          | 0/1000 [00:00<?, ?it/s]"
      ]
     },
     "metadata": {},
     "output_type": "display_data"
    },
    {
     "name": "stdout",
     "output_type": "stream",
     "text": [
      "/media/SSD/Doktori/Csillagtomegbecsles_cikk/SED/SEDflow/my_data/anpe_thetaunt_magsigz.toy.500x15.2.nsa2of34.samples.npy\n"
     ]
    },
    {
     "data": {
      "application/vnd.jupyter.widget-view+json": {
       "model_id": "80d12475491d4832b02127159479e127",
       "version_major": 2,
       "version_minor": 0
      },
      "text/plain": [
       "  0%|          | 0/1000 [00:00<?, ?it/s]"
      ]
     },
     "metadata": {},
     "output_type": "display_data"
    },
    {
     "name": "stdout",
     "output_type": "stream",
     "text": [
      "/media/SSD/Doktori/Csillagtomegbecsles_cikk/SED/SEDflow/my_data/anpe_thetaunt_magsigz.toy.500x15.2.nsa3of34.samples.npy\n"
     ]
    },
    {
     "data": {
      "application/vnd.jupyter.widget-view+json": {
       "model_id": "3cf9cc8a66fe4453b5922731e0d344d2",
       "version_major": 2,
       "version_minor": 0
      },
      "text/plain": [
       "  0%|          | 0/1000 [00:00<?, ?it/s]"
      ]
     },
     "metadata": {},
     "output_type": "display_data"
    },
    {
     "name": "stdout",
     "output_type": "stream",
     "text": [
      "/media/SSD/Doktori/Csillagtomegbecsles_cikk/SED/SEDflow/my_data/anpe_thetaunt_magsigz.toy.500x15.2.nsa4of34.samples.npy\n"
     ]
    },
    {
     "data": {
      "application/vnd.jupyter.widget-view+json": {
       "model_id": "0606b71a7d7e479a99a5efc9988fe5f8",
       "version_major": 2,
       "version_minor": 0
      },
      "text/plain": [
       "  0%|          | 0/1000 [00:00<?, ?it/s]"
      ]
     },
     "metadata": {},
     "output_type": "display_data"
    },
    {
     "name": "stdout",
     "output_type": "stream",
     "text": [
      "/media/SSD/Doktori/Csillagtomegbecsles_cikk/SED/SEDflow/my_data/anpe_thetaunt_magsigz.toy.500x15.2.nsa5of34.samples.npy\n"
     ]
    },
    {
     "data": {
      "application/vnd.jupyter.widget-view+json": {
       "model_id": "517cc7f206424b2283d7fb04ae4f1b43",
       "version_major": 2,
       "version_minor": 0
      },
      "text/plain": [
       "  0%|          | 0/1000 [00:00<?, ?it/s]"
      ]
     },
     "metadata": {},
     "output_type": "display_data"
    },
    {
     "name": "stdout",
     "output_type": "stream",
     "text": [
      "/media/SSD/Doktori/Csillagtomegbecsles_cikk/SED/SEDflow/my_data/anpe_thetaunt_magsigz.toy.500x15.2.nsa6of34.samples.npy\n"
     ]
    },
    {
     "data": {
      "application/vnd.jupyter.widget-view+json": {
       "model_id": "77ad61ee1e7648229797e9cc912e7b6f",
       "version_major": 2,
       "version_minor": 0
      },
      "text/plain": [
       "  0%|          | 0/1000 [00:00<?, ?it/s]"
      ]
     },
     "metadata": {},
     "output_type": "display_data"
    },
    {
     "name": "stdout",
     "output_type": "stream",
     "text": [
      "/media/SSD/Doktori/Csillagtomegbecsles_cikk/SED/SEDflow/my_data/anpe_thetaunt_magsigz.toy.500x15.2.nsa7of34.samples.npy\n"
     ]
    },
    {
     "data": {
      "application/vnd.jupyter.widget-view+json": {
       "model_id": "652c689d08014cd0b4fa35d3c2e601bc",
       "version_major": 2,
       "version_minor": 0
      },
      "text/plain": [
       "  0%|          | 0/1000 [00:00<?, ?it/s]"
      ]
     },
     "metadata": {},
     "output_type": "display_data"
    }
   ],
   "source": [
    "finite = np.all(np.isfinite(np.array(nsa)[:,:5]), axis=1)\n",
    "\n",
    "# compile\n",
    "posts, fails = [], []\n",
    "logsfrs, logzmws = [], []\n",
    "for ichunk in range(8):\n",
    "    finite_chunk =  finite[ichunk*1000:(ichunk+1)*1000]\n",
    "    #print(finite_chunk)\n",
    "\n",
    "    fpost = os.path.join(Train.data_dir(), 'anpe_thetaunt_magsigz.%s.%ix%i.%i.nsa%iof34.samples.npy' % (sample, nhidden, nblocks, itrain, ichunk))\n",
    "    print(fpost)\n",
    "    _post = np.load(fpost)[finite_chunk,:,:]\n",
    "\n",
    "    fail = (np.sum(np.sum(_post, axis=2), axis=1) == 0)\n",
    "\n",
    "    igals = np.arange(nsa.shape[0])[ichunk*1000:(ichunk+1)*1000][finite_chunk][fail]\n",
    "    iigals = np.arange(_post.shape[0])[fail]\n",
    "\n",
    "    post = np.zeros((_post.shape[0], _post.shape[1], 12))\n",
    "    post[~fail,:] = prior.transform(_post[~fail])\n",
    "\n",
    "    if np.sum(fail) > 0:\n",
    "        for iigal, igal in zip(iigals, igals):\n",
    "            fgal = os.path.join(Train.data_dir(), 'nsa_fail', 'mcmc.nsa.%i.hdf5' % igal)\n",
    "            if os.path.isfile(fgal):\n",
    "                gal = h5py.File(fgal, 'r')\n",
    "                chain_i = Train.flatten_chain(gal['mcmc_chain'][...][2000:,:,:])[-10000:,:]\n",
    "                post[iigal,:,:] = chain_i\n",
    "    posts.append(post)\n",
    "    fails.append(fail)\n",
    "    \n",
    "    # derived galaxy properties\n",
    "    z_chunk = np.array(nsa)[:,-1][ichunk*1000:(ichunk+1)*1000][finite_chunk]\n",
    "\n",
    "    logsfr = np.zeros((post.shape[0], post.shape[1]))\n",
    "    logzmw = np.zeros((post.shape[0], post.shape[1]))\n",
    "    for ii in trange(post.shape[0]):\n",
    "        thetas_sps = post[ii,:]\n",
    "        logsfr[ii,:] = np.log10(np.array(m_sps.avgSFR(thetas_sps, zred=float(z_chunk[ii]), dt=1.)))\n",
    "        logzmw[ii,:] = np.log10(np.array(m_sps.Z_MW(thetas_sps, zred=float(z_chunk[ii])))).flatten()\n",
    "    logsfrs.append(logsfr)\n",
    "    logzmws.append(logzmw)\n",
    "\n",
    "    #prop[ii,:,:] = Train.thetas2props(post[ii,:], np.repeat(z_chunk[ii], post[ii,:].shape[0]).astype(float))\n",
    "\n",
    "posts = np.concatenate(posts)\n",
    "fails = np.concatenate(fails)\n",
    "logsfrs = np.concatenate(logsfrs)\n",
    "logzmws = np.concatenate(logzmws)"
   ]
  },
  {
   "cell_type": "code",
   "execution_count": 23,
   "id": "7ca0a9f8",
   "metadata": {},
   "outputs": [],
   "source": [
    "# write out\n",
    "fsedflow = h5py.File(os.path.join(Train.data_dir(), 'nsa.sedflow.v0.2.hdf5'), 'w')\n",
    "\n",
    "nsaid = np.linspace( 0, 7999, 8000 )\n",
    "fsedflow.create_dataset('NSAID', data=nsaid.astype(int)[finite[:8000]])\n",
    "obs = ['mag_u', 'mag_g', 'mag_r', 'mag_i', 'mag_z', 'sigma_u', 'sigma_g', 'sigma_r', 'sigma_i', 'sigma_z', 'redshift']\n",
    "for i, o in enumerate(obs):\n",
    "    fsedflow.create_dataset(o, data=nsa[finite,i])\n",
    "\n",
    "params = ['log_mstar', 'beta1', 'beta2', 'beta3', 'beta4', 'fburst', 'tburst', 'log_gamma1', 'log_gamma2', 'tau_bc', 'tau_ism', 'n_dust']\n",
    "for i, param in enumerate(params):\n",
    "    fsedflow.create_dataset(param, data=posts[:,:,i].astype(np.float32))\n",
    "\n",
    "fsedflow.create_dataset('sedflow', data=~fails)    \n",
    "\n",
    "# write out properties\n",
    "fsedflow.create_dataset('log_sfr_1gyr', data=logsfrs.astype(np.float32))\n",
    "fsedflow.create_dataset('log_z_mw', data=logzmws.astype(np.float32))\n",
    "\n",
    "fsedflow.close()"
   ]
  },
  {
   "cell_type": "code",
   "execution_count": 25,
   "id": "e4ffaf09",
   "metadata": {},
   "outputs": [],
   "source": [
    "nsa_comp = {}\n",
    "f = h5py.File(os.path.join(Train.data_dir(), 'nsa.sedflow.v0.2.hdf5'), 'r')\n",
    "for k in f.keys(): \n",
    "    nsa_comp[k] = f[k][...]\n",
    "    #print(k)\n",
    "f.close()"
   ]
  },
  {
   "cell_type": "code",
   "execution_count": 27,
   "id": "b4dd292f",
   "metadata": {},
   "outputs": [],
   "source": [
    "nsa_ori = {}\n",
    "f = h5py.File(os.path.join(dat_dir, 'nsa.sedflow.v0.2.hdf5'), 'r')\n",
    "for k in f.keys(): \n",
    "    nsa_ori[k] = f[k][...]\n",
    "    #print(k)\n",
    "f.close()"
   ]
  },
  {
   "cell_type": "code",
   "execution_count": 26,
   "id": "038615df",
   "metadata": {
    "scrolled": false
   },
   "outputs": [
    {
     "data": {
      "text/plain": [
       "0.02342823"
      ]
     },
     "execution_count": 26,
     "metadata": {},
     "output_type": "execute_result"
    }
   ],
   "source": [
    "np.mean(nsa_comp['sigma_g'][2])"
   ]
  },
  {
   "cell_type": "code",
   "execution_count": 28,
   "id": "567cad17",
   "metadata": {},
   "outputs": [
    {
     "data": {
      "text/plain": [
       "0.02342823"
      ]
     },
     "execution_count": 28,
     "metadata": {},
     "output_type": "execute_result"
    }
   ],
   "source": [
    "np.mean(nsa_ori['sigma_g'][2])"
   ]
  }
 ],
 "metadata": {
  "kernelspec": {
   "display_name": "Python 3 (ipykernel)",
   "language": "python",
   "name": "python3"
  },
  "language_info": {
   "codemirror_mode": {
    "name": "ipython",
    "version": 3
   },
   "file_extension": ".py",
   "mimetype": "text/x-python",
   "name": "python",
   "nbconvert_exporter": "python",
   "pygments_lexer": "ipython3",
   "version": "3.9.13"
  }
 },
 "nbformat": 4,
 "nbformat_minor": 5
}
