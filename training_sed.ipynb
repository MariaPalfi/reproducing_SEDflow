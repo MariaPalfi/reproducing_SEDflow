{
 "cells": [
  {
   "cell_type": "markdown",
   "id": "1d7c3002",
   "metadata": {},
   "source": [
    "https://github.com/changhoonhahn/SEDflow/blob/spectra/bin/sedflow_p/data/training_sed.py"
   ]
  },
  {
   "cell_type": "markdown",
   "id": "ca43308a",
   "metadata": {},
   "source": [
    "### script to generate training SED data for the SEDflow project"
   ]
  },
  {
   "cell_type": "code",
   "execution_count": 1,
   "id": "ca042328",
   "metadata": {},
   "outputs": [],
   "source": [
    "import os,sys\n",
    "import numpy as np\n",
    "\n",
    "import warnings\n",
    "warnings.simplefilter(action='ignore', category=FutureWarning)\n",
    "\n",
    "from multiprocessing.pool import Pool \n",
    "\n",
    "# --- provabgs --- \n",
    "os.environ[\"SPS_HOME\"] = \"/media/SSD/Doktori/Csillagtomegbecsles_cikk/SED/SEDflow/fsps\"\n",
    "from provabgs import infer as Infer\n",
    "from provabgs import models as Models"
   ]
  },
  {
   "cell_type": "markdown",
   "id": "db0cfd84",
   "metadata": {},
   "source": [
    "#### Input"
   ]
  },
  {
   "cell_type": "code",
   "execution_count": 2,
   "id": "2a3d591b",
   "metadata": {},
   "outputs": [],
   "source": [
    "Nsample = 125729\n",
    "seed    = 901\n",
    "n_cpu   = 8\n",
    "version = '0.9' \n",
    "dat_dir = '/media/SSD/Doktori/Csillagtomegbecsles_cikk/SED/SEDflow/my_data/'"
   ]
  },
  {
   "cell_type": "markdown",
   "id": "22dfe54d",
   "metadata": {},
   "source": [
    "#### SPS parameter priors"
   ]
  },
  {
   "cell_type": "code",
   "execution_count": 3,
   "id": "3c5e9b3e",
   "metadata": {},
   "outputs": [],
   "source": [
    "prior_sps = Infer.load_priors([\n",
    "    Infer.UniformPrior(7., 12.5, label='sed'),\n",
    "    Infer.FlatDirichletPrior(4, label='sed'),           # flat dirichilet priors\n",
    "    Infer.UniformPrior(0., 1., label='sed'),            # burst fraction\n",
    "    Infer.UniformPrior(1e-2, 13.27, label='sed'),       # tburst\n",
    "    Infer.LogUniformPrior(4.5e-5, 1.5e-2, label='sed'), # log uniform priors on ZH coeff\n",
    "    Infer.LogUniformPrior(4.5e-5, 1.5e-2, label='sed'), # log uniform priors on ZH coeff\n",
    "    Infer.UniformPrior(0., 3., label='sed'),            # uniform priors on dust1\n",
    "    Infer.UniformPrior(0., 3., label='sed'),            # uniform priors on dust2\n",
    "    Infer.UniformPrior(-2., 1., label='sed')            # uniform priors on dust_index\n",
    "])"
   ]
  },
  {
   "cell_type": "markdown",
   "id": "114f1888",
   "metadata": {},
   "source": [
    "#### SPS model"
   ]
  },
  {
   "cell_type": "code",
   "execution_count": 4,
   "id": "1cbae3d4",
   "metadata": {
    "scrolled": true
   },
   "outputs": [
    {
     "name": "stdout",
     "output_type": "stream",
     "text": [
      "input parameters : logmstar, beta1_sfh, beta2_sfh, beta3_sfh, beta4_sfh, fburst, tburst, gamma1_zh, gamma2_zh, dust1, dust2, dust_index\n"
     ]
    }
   ],
   "source": [
    "m_sps = Models.NMF(burst=True, emulator=True)"
   ]
  },
  {
   "cell_type": "markdown",
   "id": "9dca2b97",
   "metadata": {},
   "source": [
    "#### Draw (parameters, z) from the prior"
   ]
  },
  {
   "cell_type": "code",
   "execution_count": 5,
   "id": "1c980074",
   "metadata": {},
   "outputs": [],
   "source": [
    "np.random.seed(seed)\n",
    "\n",
    "thetas_sps  = np.array([prior_sps.transform(prior_sps.sample()) for i in range(Nsample)])\n",
    "thetas_unt  = prior_sps.untransform(thetas_sps)\n",
    "redshifts   = np.random.uniform(0, 0.06, Nsample) \n",
    "thetas      = np.concatenate([thetas_sps, np.atleast_2d(redshifts).T], axis=1)"
   ]
  },
  {
   "cell_type": "markdown",
   "id": "019cbc2c",
   "metadata": {},
   "source": [
    "#### Generate SED for (parameters, z) values "
   ]
  },
  {
   "cell_type": "code",
   "execution_count": 6,
   "id": "8d502649",
   "metadata": {},
   "outputs": [],
   "source": [
    "def SED(tt): \n",
    "    w, f = m_sps.sed(tt[:-1], tt[-1]) \n",
    "    return [w, f]\n",
    "\n",
    "with Pool(n_cpu) as p: \n",
    "    wfps = p.map(SED, thetas)\n",
    "\n",
    "waves   = np.array([wfp[0] for wfp in wfps])\n",
    "seds    = np.array([wfp[1] for wfp in wfps]) "
   ]
  },
  {
   "cell_type": "markdown",
   "id": "fc670bbb",
   "metadata": {},
   "source": [
    "#### Calculating magnitudes, fluxes and other properties:"
   ]
  },
  {
   "cell_type": "code",
   "execution_count": 7,
   "id": "e0c09454",
   "metadata": {},
   "outputs": [
    {
     "name": "stdout",
     "output_type": "stream",
     "text": [
      "input parameters : logmstar, beta1_sfh, beta2_sfh, beta3_sfh, beta4_sfh, fburst, tburst, gamma1_zh, gamma2_zh, dust1, dust2, dust_index\n"
     ]
    }
   ],
   "source": [
    "sys.path.append('/media/SSD/Doktori/Csillagtomegbecsles_cikk/SED/SEDflow/SEDflow/src/')\n",
    "from sedflow import train as Train\n",
    "\n",
    "def SED_to_mags(wave, sed, filters=None): \n",
    "    import astropy.units as U\n",
    "    _sed = np.atleast_2d(sed) * 1e-17*U.erg/U.s/U.cm**2/U.Angstrom\n",
    "    _wave = wave * U.Angstrom\n",
    "    return filters.get_ab_magnitudes(_sed, wavelength=_wave)\n",
    "\n",
    "mags = [SED_to_mags(waves[i], seds[i], filters = Train.photometry_bands() )for i in range(Nsample)]\n",
    "mags = ( [[ mags[n][0][i] for i in range( 0, 5 )] for n in range(0, Nsample)] )\n",
    "fluxes = 10**(0.4 * (22.5 - np.array(mags)) ) \n",
    "props = Train.thetas2props( thetas_sps, redshifts )"
   ]
  },
  {
   "cell_type": "markdown",
   "id": "086f51a4",
   "metadata": {},
   "source": [
    "#### Saving results"
   ]
  },
  {
   "cell_type": "code",
   "execution_count": 8,
   "id": "d3202d0a",
   "metadata": {},
   "outputs": [],
   "source": [
    "np.save( os.path.join( dat_dir, 'train.v%s.thetas_sps.npy' % ( version ) ), thetas_sps )\n",
    "np.save( os.path.join( dat_dir, 'train.v%s.thetas_unt.npy'  % ( version )  ), thetas_unt )\n",
    "np.save( os.path.join( dat_dir, 'train.v%s.redshifts.npy'  % ( version )  ), redshifts )\n",
    "np.save( os.path.join( dat_dir, 'train.v%s.waves.npy'  % ( version ) ), waves )\n",
    "np.save( os.path.join( dat_dir, 'train.v%s.seds.npy'  % ( version ) ), seds )\n",
    "np.save( os.path.join( dat_dir, 'train.v%s.mags_nonoise.npy' % ( version ) ), mags )\n",
    "np.save( os.path.join( dat_dir, 'train.v%s.flux_nonoise.npy' % ( version ) ), fluxes )\n",
    "np.save( os.path.join( dat_dir, 'train.v%s.props.npy' % ( version ) ), props )"
   ]
  },
  {
   "cell_type": "raw",
   "id": "5846643b",
   "metadata": {},
   "source": [
    "np.save( os.path.join( dat_dir, 'test.v%s.thetas_sps.npy' % ( version ) ), thetas_sps )\n",
    "np.save( os.path.join( dat_dir, 'test.v%s.thetas_unt.npy'  % ( version )  ), thetas_unt )\n",
    "np.save( os.path.join( dat_dir, 'test.v%s.redshifts.npy'  % ( version )  ), redshifts )\n",
    "np.save( os.path.join( dat_dir, 'test.v%s.waves.npy'  % ( version ) ), waves )\n",
    "np.save( os.path.join( dat_dir, 'test.v%s.seds.npy'  % ( version ) ), seds )\n",
    "np.save( os.path.join( dat_dir, 'test.v%s.mags_nonoise.npy' % ( version ) ), mags )\n",
    "np.save( os.path.join( dat_dir, 'test.v%s.flux_nonoise.npy' % ( version ) ), fluxes )\n",
    "np.save( os.path.join( dat_dir, 'test.v%s.props.npy' % ( version ) ), props )"
   ]
  }
 ],
 "metadata": {
  "kernelspec": {
   "display_name": "Python 3 (ipykernel)",
   "language": "python",
   "name": "python3"
  },
  "language_info": {
   "codemirror_mode": {
    "name": "ipython",
    "version": 3
   },
   "file_extension": ".py",
   "mimetype": "text/x-python",
   "name": "python",
   "nbconvert_exporter": "python",
   "pygments_lexer": "ipython3",
   "version": "3.10.12"
  }
 },
 "nbformat": 4,
 "nbformat_minor": 5
}
